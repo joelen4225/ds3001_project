{
 "cells": [
  {
   "cell_type": "markdown",
   "metadata": {},
   "source": [
    "# Pre-Analysis Plan\n",
    "\n",
    "#### **1. Observation in the Study**\n",
    "- Each observation in our study corresponds to a song listed in Spotify's dataset, including attributes such as its popularity, duration, tempo, danceability, and other relevant audio features.\n",
    "\n",
    "#### **2. Type of Learning**\n",
    "- We are conducting **supervised learning**, specifically focusing on **regression** to predict a song's popularity based on its features.\n",
    "\n",
    "#### **3. Models and Algorithms**\n",
    "- We plan to experiment with multiple models to take an approach that touches on various areas of modeling and machine learning.\n",
    "    - Linear Regression\n",
    "    - Random Forest Regression\n",
    "    - Gradient Boosting (XGBoost)\n",
    "    - Neural Networks\n",
    "\n",
    "#### **4. Criteria for Success**\n",
    "- Success will be evaluated using:\n",
    "    - Mean Absolute Error (MAE) and Root Mean Squared Error (RMSE) for regression performance.\n",
    "    - Cross-validation scores to ensure model generalization.\n",
    "    - Feature importance analysis to interpret key predictors of song popularity.\n",
    "\n",
    "#### **5. Anticipated Weaknesses & Mitigation**\n",
    "- Feature Correlations\n",
    "    - Some features may be highly correlated, requiring dimensionality reduction or feature selection techniques.\n",
    "- Data Imbalance\n",
    "    - Popularity scores may be skewed, requiring potential transformations or resampling.\n",
    "- Overfitting\n",
    "    - Regularization techniques will be used to prevent overfitting.\n",
    "- Unpredictable External Factors\n",
    "    - Song popularity can be influenced by external trends, which our model cannot capture. We will acknowledge this limitation in our analysis.\n",
    "\n",
    "#### **6. Feature Engineering**\n",
    "- One-hot encoding categorical features such as key and mode.\n",
    "- Normalization of numerical features like tempo and loudness.\n",
    "- Creating interaction terms for potential synergies between features.\n",
    "\n",
    "#### **7. Results Communication**\n",
    "- Results will be shared via:\n",
    "    - Visualizations\n",
    "    - Performance Metrics Tables\n",
    "    - Model Interpretability Discussions\n",
    "\n",
    "#### **8. Conclusion**\n",
    "- Our pre-analysis plan ensures a structured approach to predicting song popularity using machine learning techniques while addressing potential limitations and emphasizing interpretability."
   ]
  }
 ],
 "metadata": {
  "language_info": {
   "name": "python"
  }
 },
 "nbformat": 4,
 "nbformat_minor": 2
}
