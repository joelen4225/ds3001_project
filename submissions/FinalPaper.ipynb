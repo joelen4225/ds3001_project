{
 "cells": [
  {
   "cell_type": "markdown",
   "id": "05e238c1",
   "metadata": {},
   "source": [
    "***Instructions***\n",
    "1. Abstract/Executive Summary: ~300 words summarizing your results for people who won't actually read the paper.\n",
    "\n",
    "2. Introduction: Two or three pages that summarize your findings for people who will read the paper, so they know what is coming and why.\n",
    "\n",
    "3. Data: First submission, cleaned up to be read as part of a paper\n",
    "\n",
    "4. Methods: Pre-analysis plan submission, cleaned up to be read as part of a paper\n",
    "\n",
    "5. Results: Results submission, cleaned up to read as part of a paper\n",
    "\n",
    "6. Conclusion: Two or three pages that summarize your findings for people who have read the paper. In particular, describe extensions, complications, problems, limitations that you ran into that could form the basis of future work (turn the weaknesses of your paper into results/features, rather than flaws).\n",
    "\n",
    "7. References/Bibliography"
   ]
  },
  {
   "cell_type": "markdown",
   "id": "e7314ae5",
   "metadata": {},
   "source": [
    "***Abstract***\n"
   ]
  },
  {
   "cell_type": "markdown",
   "id": "30e10030",
   "metadata": {},
   "source": [
    "***Introduction***\n"
   ]
  },
  {
   "cell_type": "markdown",
   "id": "7669ff8c",
   "metadata": {},
   "source": [
    "***Data***\n"
   ]
  },
  {
   "cell_type": "markdown",
   "id": "4a2e25f1",
   "metadata": {},
   "source": [
    "*Project Wrangling and Exploratory Data Analysis*"
   ]
  },
  {
   "cell_type": "markdown",
   "id": "7cdf869a",
   "metadata": {},
   "source": [
    "***Methods***\n"
   ]
  },
  {
   "cell_type": "markdown",
   "id": "5bc086cb",
   "metadata": {},
   "source": [
    "*Approach*"
   ]
  },
  {
   "cell_type": "markdown",
   "id": "5996a1f5",
   "metadata": {},
   "source": [
    "***Results***\n"
   ]
  },
  {
   "cell_type": "markdown",
   "id": "f1967412",
   "metadata": {},
   "source": [
    "***Conclusion***\n"
   ]
  }
 ],
 "metadata": {
  "language_info": {
   "name": "python"
  }
 },
 "nbformat": 4,
 "nbformat_minor": 5
}
